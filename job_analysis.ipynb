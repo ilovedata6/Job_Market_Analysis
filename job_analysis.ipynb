{
 "cells": [
  {
   "cell_type": "code",
   "execution_count": null,
   "metadata": {},
   "outputs": [],
   "source": [
    "\"https://www.indeed.com/jobs?q=Data+analyst&l=New+York%2C+NY&from=searchOnHP&vjk=7b89660e8dc7e9d7\""
   ]
  },
  {
   "cell_type": "markdown",
   "metadata": {},
   "source": [
    "1- Job title (For Loop)\n",
    "2- replace the space with '+'\n",
    "3- replace the space in State with '+'\n",
    "4- State (For loop)\n",
    "5- loop through each page of the title and state\n",
    "6- Loop though each job on the page"
   ]
  },
  {
   "cell_type": "code",
   "execution_count": 1,
   "metadata": {},
   "outputs": [],
   "source": [
    "import numpy as np\n",
    "import pandas as pd\n",
    "import requests\n",
    "from bs4 import BeautifulSoup"
   ]
  },
  {
   "cell_type": "code",
   "execution_count": 8,
   "metadata": {},
   "outputs": [],
   "source": [
    "job_titles = [\n",
    "    \"Data Scientist\",\"Data Analyst\",\"Machine Learning Engineer\",\n",
    "    \"Software Engineer\",\"Product Manager\",\n",
    "    \"Business Analyst\",\"UX/UI Designer\",\"Marketing Manager\",\"Financial Analyst\",\n",
    "    \"Project Manager\",\"Sales Manager\",\"Operations Manager\",\n",
    "    \"IT Support Specialist\",\"Human Resources Manager\",\"Web Developer\",\n",
    "    \"Graphic Designer\",\"Customer Service Representative\",\"Content Writer\",\n",
    "    \"Digital Marketing Specialist\",\"Network Administrator\"\n",
    "    ]\n",
    "\n",
    "from us import states\n",
    "\n",
    "state_names = [state.name for state in states.STATES]\n",
    "\n",
    "\n",
    "\n",
    "def extract(title,state):\n",
    "    title = title.replace(' ','+')\n",
    "    state = state.replace(' ','+')\n",
    "    url = f\"https://www.indeed.com/jobs?q={title}&l={state}\"\n",
    "    "
   ]
  },
  {
   "cell_type": "code",
   "execution_count": 13,
   "metadata": {},
   "outputs": [
    {
     "data": {
      "text/plain": [
       "('Customer+Service+Rep', 'North+Carolina')"
      ]
     },
     "execution_count": 13,
     "metadata": {},
     "output_type": "execute_result"
    }
   ],
   "source": [
    "extract(\"Customer Service Rep\",state_names[32])"
   ]
  },
  {
   "cell_type": "code",
   "execution_count": 20,
   "metadata": {},
   "outputs": [
    {
     "data": {
      "text/plain": [
       "<Response [200]>"
      ]
     },
     "execution_count": 20,
     "metadata": {},
     "output_type": "execute_result"
    }
   ],
   "source": [
    "import requests as r\n",
    "header = {\n",
    "    'User-Agent': 'Mozilla/5.0 (Windows NT 10.0) AppleWebKit/537.36 (KHTML, like Gecko) Chrome/42.0.2311.135 Safari/537.36 Edge/12.10136'}\n",
    "\n",
    "rl = \"https://www.google.com\"\n",
    "s = r.get(rl,headers=header)\n",
    "s"
   ]
  },
  {
   "cell_type": "code",
   "execution_count": 16,
   "metadata": {},
   "outputs": [
    {
     "data": {
      "text/plain": [
       "'Forbidden'"
      ]
     },
     "execution_count": 16,
     "metadata": {},
     "output_type": "execute_result"
    }
   ],
   "source": [
    "s.reason"
   ]
  },
  {
   "cell_type": "code",
   "execution_count": 1,
   "metadata": {},
   "outputs": [],
   "source": [
    "import sqlite3"
   ]
  },
  {
   "cell_type": "code",
   "execution_count": null,
   "metadata": {},
   "outputs": [],
   "source": []
  }
 ],
 "metadata": {
  "kernelspec": {
   "display_name": "Python 3",
   "language": "python",
   "name": "python3"
  },
  "language_info": {
   "codemirror_mode": {
    "name": "ipython",
    "version": 3
   },
   "file_extension": ".py",
   "mimetype": "text/x-python",
   "name": "python",
   "nbconvert_exporter": "python",
   "pygments_lexer": "ipython3",
   "version": "3.11.4"
  },
  "orig_nbformat": 4
 },
 "nbformat": 4,
 "nbformat_minor": 2
}
